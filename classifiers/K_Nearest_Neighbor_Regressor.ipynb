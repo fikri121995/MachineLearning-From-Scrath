{
  "nbformat": 4,
  "nbformat_minor": 0,
  "metadata": {
    "colab": {
      "provenance": [],
      "collapsed_sections": []
    },
    "kernelspec": {
      "name": "python3",
      "display_name": "Python 3"
    },
    "language_info": {
      "name": "python"
    }
  },
  "cells": [
    {
      "cell_type": "markdown",
      "source": [
        "# K - Nearest Neighbor Regressor\n",
        "\n",
        "Z.W.Miller - Copyright 2018\n"
      ],
      "metadata": {
        "id": "BSqaenaIlobY"
      }
    },
    {
      "cell_type": "code",
      "source": [
        "import numpy as np\n",
        "import random\n",
        "import matplotlib.pyplot as plt\n",
        "import pandas as pd\n",
        "import math\n",
        "%matplotlib inline\n",
        "plt.style.use('seaborn')"
      ],
      "metadata": {
        "id": "EpyfjedM-XH7"
      },
      "execution_count": 35,
      "outputs": []
    },
    {
      "cell_type": "code",
      "source": [
        "import sklearn\n",
        "import matplotlib\n",
        "import sys\n",
        "import scipy\n",
        "libraries = (('Matplotlib', matplotlib), ('Numpy', np), ('Pandas', pd), ('Scipy', scipy), ('Sklearn', sklearn))\n",
        "\n",
        "print(\"Python Version:\", sys.version, '\\n')\n",
        "for lib in libraries:\n",
        "    print('{0} Version: {1}'.format(lib[0], lib[1].__version__))\n"
      ],
      "metadata": {
        "colab": {
          "base_uri": "https://localhost:8080/"
        },
        "id": "gTAT61eumj40",
        "outputId": "c145a797-9f3a-4d45-d5a4-3522ccea9019"
      },
      "execution_count": 36,
      "outputs": [
        {
          "output_type": "stream",
          "name": "stdout",
          "text": [
            "Python Version: 3.7.15 (default, Oct 12 2022, 19:14:55) \n",
            "[GCC 7.5.0] \n",
            "\n",
            "Matplotlib Version: 3.2.2\n",
            "Numpy Version: 1.21.6\n",
            "Pandas Version: 1.3.5\n",
            "Scipy Version: 1.7.3\n",
            "Sklearn Version: 1.0.2\n"
          ]
        }
      ]
    },
    {
      "cell_type": "code",
      "source": [
        "import math\n",
        "import numpy as np\n",
        "\n",
        "class decision_tree_regressor:\n",
        "    \n",
        "    def __init__(self, n_neighbors=5):\n",
        "        \"\"\"\n",
        "        KNearestNeighbors is a distance based regressors that returns\n",
        "        predictions based on the nearest points in the feature space.\n",
        "        ---\n",
        "        In: n_neighbors (int) - how many closest neighbors do we consider\n",
        "        \"\"\"\n",
        "        if n_neighbors > 0:\n",
        "            self.k = int(n_neighbors)\n",
        "        else:\n",
        "            print(\"n_neighbors must be >0. Set to 5!\")\n",
        "            self.k = 5\n",
        "        self.X = None\n",
        "        self.y = None\n",
        "        \n",
        "    def fit(self, X, y):\n",
        "        \"\"\"\n",
        "        Makes a copy of the training data that can live within the class.\n",
        "        Thus, the model can be serialized and used away from the original\n",
        "        training data. \n",
        "        ---\n",
        "        In: X (features), y (labels); both np.array or pandas dataframe/series\n",
        "        \"\"\"\n",
        "        self.X = copy.copy(self.convert_to_array(X))\n",
        "        self.y = copy.copy(self.convert_to_array(y))\n",
        "        \n",
        "    def pandas_to_numpy(self, x):\n",
        "        \"\"\"\n",
        "        Checks if the input is a Dataframe or series, converts to numpy matrix for\n",
        "        calculation purposes.\n",
        "        ---\n",
        "        Input: X (array, dataframe, or series)\n",
        "        Output: X (array)\n",
        "        \"\"\"\n",
        "        if type(x) == type(pd.DataFrame()) or type(x) == type(pd.Series()):\n",
        "            return x.as_matrix()\n",
        "        if type(x) == type(np.array([1,2])):\n",
        "            return x\n",
        "        return np.array(x) \n",
        "        \n",
        "    def handle_1d_data(self,x):\n",
        "        \"\"\"\n",
        "        Converts 1 dimensional data into a series of rows with 1 columns\n",
        "        instead of 1 row with many columns.\n",
        "        \"\"\"\n",
        "        if x.ndim == 1:\n",
        "            x = x.reshape(-1,1)\n",
        "        return x\n",
        "    \n",
        "    def convert_to_array(self, x):\n",
        "        \"\"\"\n",
        "        Takes in an input and converts it to a numpy array\n",
        "        and then checks if it needs to be reshaped for us\n",
        "        to use it properly\n",
        "        \"\"\"\n",
        "        x = self.pandas_to_numpy(x)\n",
        "        x = self.handle_1d_data(x)\n",
        "        return x\n",
        "    \n",
        "    def predict(self, X):\n",
        "        \"\"\"\n",
        "        Iterates through all points to predict, calculating the distance\n",
        "        to all of the training points. It then passes that to a sorting function\n",
        "        which returns the most common vote of the n_neighbors (k) closest training\n",
        "        points.\n",
        "        ___\n",
        "        In: new data to predict (np.array, pandas series/dataframe)\n",
        "        Out: predictions (np.array)\n",
        "        \"\"\"\n",
        "        X = self.convert_to_array(X)\n",
        "        results = []\n",
        "        for x in X:\n",
        "            local_results = []\n",
        "            for (x2,y) in zip(self.X,self.y):\n",
        "                local_results.append([self.dist_between_points(x,x2),y])\n",
        "            results.append(self.get_final_predict(local_results))\n",
        "        return np.array(results).reshape(-1,1)\n",
        "\n",
        "    def get_final_predict(self,results):\n",
        "        \"\"\"\n",
        "        Takes a list of [distance, label] pairs and sorts by distance,\n",
        "        returning themean of the n_neighbors (k) closest points. \n",
        "        ---\n",
        "        In: [[distance, label]] list of lists\n",
        "        Output: class label (int)\n",
        "        \"\"\"\n",
        "        results = sorted(results, key=lambda x: x[0])\n",
        "        dists, votes = zip(*results)\n",
        "        return np.mean(votes[:self.k])\n",
        "\n",
        "    def dist_between_points(self, a, b):\n",
        "        \"\"\"\n",
        "        Calculates the distance between two vectors.\n",
        "        ---\n",
        "        Inputs: a,b (np.arrays)\n",
        "        Outputs: distance (float)\"\"\"\n",
        "        assert np.array(a).shape == np.array(b).shape\n",
        "        return np.sqrt(np.sum((a-b)**2))\n",
        "    \n",
        "    def score(self, X, y):\n",
        "        \"\"\"\n",
        "        Uses the predict method to measure the (negative)\n",
        "        mean squared error of the model.\n",
        "        ---\n",
        "        In: X (list or array), feature matrix; y (list or array) labels\n",
        "        Out: negative mean squared error (float)\n",
        "        \"\"\"\n",
        "        pred = self.predict(X)\n",
        "        return -1.* np.mean((np.array(pred)-np.array(y))**2)\n"
      ],
      "metadata": {
        "id": "UqAxr0Lutn3C"
      },
      "execution_count": 37,
      "outputs": []
    },
    {
      "cell_type": "code",
      "source": [
        "def get_data():\n",
        "  x = np.linspace(-10,10,300)\n",
        "  y = np.sin(x)\n",
        "  return x, y"
      ],
      "metadata": {
        "id": "GYd-QyxcviFU"
      },
      "execution_count": 38,
      "outputs": []
    },
    {
      "cell_type": "code",
      "source": [
        "import pandas as pd \n",
        "X,y = get_data()"
      ],
      "metadata": {
        "id": "4W0TsgvXvyZ0"
      },
      "execution_count": 39,
      "outputs": []
    },
    {
      "cell_type": "code",
      "source": [
        "plt.plot(X,y);"
      ],
      "metadata": {
        "colab": {
          "base_uri": "https://localhost:8080/",
          "height": 347
        },
        "id": "ag_79ByhwGoL",
        "outputId": "539605a7-f6f4-4381-cf79-e2afeb9e6b4c"
      },
      "execution_count": 40,
      "outputs": [
        {
          "output_type": "display_data",
          "data": {
            "text/plain": [
              "<Figure size 576x396 with 1 Axes>"
            ],
            "image/png": "[encoded data removed]"
          },
          "metadata": {}
        }
      ]
    },
    {
      "cell_type": "code",
      "source": [
        "def shuffle_data(X, y):\n",
        "  assert len(X) == len(y)\n",
        "  permute = np.random.permutation(len(y))\n",
        "  return X[permute], y[permute]\n",
        "\n",
        "def train_test_split_manual(X, y, test_size=0.3):\n",
        "  nX, ny = shuffle_data(X,y)\n",
        "  split_index = int(len(X)*test_size)\n",
        "  testX = nX[:split_index]\n",
        "  trainX = nX[split_index:]\n",
        "  testy = ny[:split_index]\n",
        "  trainy = ny[split_index:]\n",
        "  return trainX, testX, trainy, testy"
      ],
      "metadata": {
        "id": "f0sdN36uwLmQ"
      },
      "execution_count": 41,
      "outputs": []
    },
    {
      "cell_type": "code",
      "source": [
        "x_train, x_test, y_train, y_test = train_test_split_manual(X,y,test_size=0.3)\n"
      ],
      "metadata": {
        "id": "kzTOmTnhwbRG"
      },
      "execution_count": 42,
      "outputs": []
    },
    {
      "cell_type": "code",
      "source": [
        "from sklearn.neighbors import KNeighborsClassifier\n",
        "knn = KNeighborsClassifier(n_neighbors = 5)\n"
      ],
      "metadata": {
        "id": "0oZGCNl0ljSW"
      },
      "execution_count": 43,
      "outputs": []
    },
    {
      "cell_type": "code",
      "source": [
        "knn.fit(x_train,y_train)\n",
        "knn.score(x_test, y_test)"
      ],
      "metadata": {
        "id": "QEjYm7Nqwrh9"
      },
      "execution_count": null,
      "outputs": []
    },
    {
      "cell_type": "code",
      "source": [
        "preds = knn.predict(x_test)\n",
        "plt.plot(X,y, 'k',lw=2,label = 'Truth')\n",
        "plt.scatter(x_test, preds,c='r', label=\"Prediction\")\n"
      ],
      "metadata": {
        "id": "wweBxq6ZwyIn"
      },
      "execution_count": null,
      "outputs": []
    },
    {
      "cell_type": "code",
      "source": [
        "from sklearn.neighbors import KNeighborsRegressor\n",
        "\n",
        "sk_knn = KNeighborsRegressor(n_neighbors=5,algorithm='brute')\n",
        "sk_knn.fit(x_train.reshape(-1,1),y_train.reshape(-1,1))\n",
        "sk_knn.score(x_test.reshape(-1,1),y_test.reshape(-1,1))\n"
      ],
      "metadata": {
        "id": "rHQt0Z1Uw5eV"
      },
      "execution_count": null,
      "outputs": []
    },
    {
      "cell_type": "code",
      "source": [
        "myscore = []\n",
        "skscore = []\n",
        "for k in range(1,55)[::2]:\n",
        "    knn = knn_regressor(n_neighbors=k)\n",
        "    knn.fit(x_train,y_train)\n",
        "    myscore.append(-knn.score(x_test,y_test))\n",
        "    sk_knn = KNeighborsRegressor(n_neighbors=k,algorithm='brute')\n",
        "    sk_knn.fit(x_train.reshape(-1,1),y_train.reshape(-1,1))\n",
        "    skscore.append(np.mean((sk_knn.predict(x_test.reshape(-1,1))-np.array(y_test))**2))\n",
        "    \n",
        "plt.plot(range(1,55)[::2],myscore,'r-',lw=4,label=\"kNN Scratch\")\n",
        "plt.plot(range(1,55)[::2],skscore,'-k',label=\"kNN SkLearn\")\n",
        "plt.legend(loc=\"lower left\", fontsize=16);\n"
      ],
      "metadata": {
        "id": "y3vIfj-GxPaU"
      },
      "execution_count": null,
      "outputs": []
    }
  ]
}