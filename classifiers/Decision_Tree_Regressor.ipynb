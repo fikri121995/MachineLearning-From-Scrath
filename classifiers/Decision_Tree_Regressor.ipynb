{
  "nbformat": 4,
  "nbformat_minor": 0,
  "metadata": {
    "colab": {
      "provenance": [],
      "collapsed_sections": []
    },
    "kernelspec": {
      "name": "python3",
      "display_name": "Python 3"
    },
    "language_info": {
      "name": "python"
    }
  },
  "cells": [
    {
      "cell_type": "markdown",
      "source": [
        "# Decision Tree Regressor\n",
        "\n",
        "Z.W.Miller - Copyright 2018\n",
        "\n",
        "import (All imports here for cleanliness)"
      ],
      "metadata": {
        "id": "BSqaenaIlobY"
      }
    },
    {
      "cell_type": "code",
      "source": [
        "import numpy as np\n",
        "import random\n",
        "import matplotlib.pyplot as plt\n",
        "import pandas as pd\n",
        "import math\n",
        "%matplotlib inline\n",
        "plt.style.use('seaborn')"
      ],
      "metadata": {
        "id": "EpyfjedM-XH7"
      },
      "execution_count": 23,
      "outputs": []
    },
    {
      "cell_type": "markdown",
      "source": [
        "Version Checking"
      ],
      "metadata": {
        "id": "fMimsXvutZ5e"
      }
    },
    {
      "cell_type": "code",
      "source": [
        "import sklearn\n",
        "import matplotlib\n",
        "import sys\n",
        "import scipy\n",
        "libraries = (('Matplotlib', matplotlib), ('Numpy', np), ('Pandas', pd), ('Scipy', scipy), ('Sklearn', sklearn))\n",
        "\n",
        "print(\"Python Version:\", sys.version, '\\n')\n",
        "for lib in libraries:\n",
        "    print('{0} Version: {1}'.format(lib[0], lib[1].__version__))\n"
      ],
      "metadata": {
        "colab": {
          "base_uri": "https://localhost:8080/"
        },
        "id": "gTAT61eumj40",
        "outputId": "ca1b38a9-e92d-49f6-ca2f-c9ef57d30908"
      },
      "execution_count": 24,
      "outputs": [
        {
          "output_type": "stream",
          "name": "stdout",
          "text": [
            "Python Version: 3.7.15 (default, Oct 12 2022, 19:14:55) \n",
            "[GCC 7.5.0] \n",
            "\n",
            "Matplotlib Version: 3.2.2\n",
            "Numpy Version: 1.21.6\n",
            "Pandas Version: 1.3.5\n",
            "Scipy Version: 1.7.3\n",
            "Sklearn Version: 1.0.2\n"
          ]
        }
      ]
    },
    {
      "cell_type": "markdown",
      "source": [
        "Now let's actually build our tree class, using recursion !"
      ],
      "metadata": {
        "id": "VnIJsXnBt30u"
      }
    },
    {
      "cell_type": "code",
      "source": [
        "import math\n",
        "import numpy as np\n",
        "\n",
        "class decision_tree_regressor:\n",
        "    \n",
        "    def __init__(self, max_depth = None, criteria='std'):\n",
        "        \"\"\"\n",
        "        Builds a decision tree to regress on the target data. The\n",
        "        decision tree is built by trying to minimize the requested\n",
        "        criteria at each possible split. Starting with the whole data\n",
        "        the tree will try every possible split (column and value pair)\n",
        "        and choose the split which results in the greatest reduction \n",
        "        of the criteria. Then for each sub-group of that split, the \n",
        "        process is repeated recursively until no more splits are possible\n",
        "        or no splits cause a reductuion of the criteria.\n",
        "        ---\n",
        "        KWargs:\n",
        "        max_depth: how many splits to allow in the tree (depth not breadth)\n",
        "        criteria: what metric to use as a measure of split strength \n",
        "        ('std'= reduction of standard deviation in the data, 'mae'=\n",
        "        minimize the mean error size (abs value))\n",
        "        \"\"\"\n",
        "        self.tree = self.tree_split()\n",
        "        self.data_cols = None\n",
        "        self.max_depth = max_depth\n",
        "        self.current_depth = 0\n",
        "        self.criteria = criteria\n",
        "    \n",
        "    # Sub class for handling recursive nodes (only makes sense in the scope of a tree)\n",
        "    class tree_split:\n",
        "        \"\"\"\n",
        "        A sub class for handling recursive nodes. Each node will contain the value and column\n",
        "        for the current split, as well as links to the resulting nodes from the split. The \n",
        "        results attribute remains empty unless the current node is a leaf. \n",
        "        \"\"\"\n",
        "        def __init__(self,col=-1,value=None,results=None,label=None,tb=None,fb=None):\n",
        "            self.col=col # column index of criteria being tested\n",
        "            self.value=value # vlaue necessary to get a true result\n",
        "            self.results=results # dict of results for a branch, None for everything except endpoints\n",
        "            self.tb=tb # true decision nodes \n",
        "            self.fb=fb # false decision nodes\n",
        "    \n",
        "    def split_data(self, X, y, colnum, value):\n",
        "        \"\"\"\n",
        "        Returns: Two sets of data from the initial data. Set 1 contains those that passed\n",
        "        the condition of data[colnum] >= value\n",
        "        ---------- \n",
        "                Input: The dataset, the column to split on, the value on which to split\n",
        "        \"\"\"\n",
        "        splitter = None\n",
        "        if isinstance(value, int) or isinstance(value,float):\n",
        "            splitter = lambda x: x[colnum] >= value\n",
        "        else:\n",
        "            splitter = lambda x: x[colnum] == value\n",
        "        split1 = [i for i,row in enumerate(X) if splitter(row)]\n",
        "        split2 = [i for i,row in enumerate(X) if not splitter(row)]\n",
        "        set1X = X[split1]\n",
        "        set1Y = y[split1]\n",
        "        set2X = X[split2]\n",
        "        set2Y = y[split2]\n",
        "        return set1X, set1Y, set2X, set2Y\n",
        "\n",
        "    def get_mean_target_value(self, data):\n",
        "        \"\"\"\n",
        "        Returns: A dictionary of target variable counts in the data\n",
        "        \"\"\"\n",
        "        return np.mean(data)\n",
        "\n",
        "    def split_criteria(self, y):\n",
        "        \"\"\"\n",
        "        Returns the criteria we're trying to minimize by splitting.\n",
        "        Current options are target Mean Absolute Error (from the target \n",
        "        mean) or Standard deviation of the target.\n",
        "        ---\n",
        "        Input: targets in the split\n",
        "        Output: Criteria\n",
        "        \"\"\"\n",
        "        if self.criteria == 'mae':\n",
        "            mu = np.mean(y)\n",
        "            return np.mean(np.abs(y-mu))\n",
        "        else:\n",
        "            return np.std(y)\n",
        "    \n",
        "    def pandas_to_numpy(self, x):\n",
        "        \"\"\"\n",
        "        Checks if the input is a Dataframe or series, converts to numpy matrix for\n",
        "        calculation purposes.\n",
        "        ---\n",
        "        Input: X (array, dataframe, or series)\n",
        "        Output: X (array)\n",
        "        \"\"\"\n",
        "        if type(x) == type(pd.DataFrame()) or type(x) == type(pd.Series()):\n",
        "            return x.as_matrix()\n",
        "        if type(x) == type(np.array([1,2])):\n",
        "            return x\n",
        "        return np.array(x) \n",
        "        \n",
        "    def handle_1d_data(self,x):\n",
        "        \"\"\"\n",
        "        Converts 1 dimensional data into a series of rows with 1 columns\n",
        "        instead of 1 row with many columns.\n",
        "        \"\"\"\n",
        "        if x.ndim == 1:\n",
        "            x = x.reshape(-1,1)\n",
        "        return x\n",
        "    \n",
        "    def convert_to_array(self, x):\n",
        "        \"\"\"\n",
        "        Takes in an input and converts it to a numpy array\n",
        "        and then checks if it needs to be reshaped for us\n",
        "        to use it properly\n",
        "        \"\"\"\n",
        "        x = self.pandas_to_numpy(x)\n",
        "        x = self.handle_1d_data(x)\n",
        "        return x\n",
        "    \n",
        "    def fit(self, X, y):\n",
        "        \"\"\"\n",
        "        Helper function to wrap the fit method. This makes sure the full nested, \n",
        "        recursively built tree gets assigned to the correct variable name and \n",
        "        persists after training.\n",
        "        \"\"\"\n",
        "        self.tree = self._fit(X,y)\n",
        "    \n",
        "    def _fit(self, X, y, depth=0):\n",
        "        \"\"\"\n",
        "        Builds the decision tree via a greedy approach, checking every possible\n",
        "        branch for the best current decision. Decision strength is measured by\n",
        "        information gain/score reduction. If no information gain is possible,\n",
        "        sets a leaf node. Recursive calls to this method allow the nesting. If\n",
        "        max_depth is met, all further nodes become leaves as well.\n",
        "        ---\n",
        "        Input: X (feature matrix), y (labels)\n",
        "        Output: A nested tree built upon the node class.\"\"\"\n",
        "        X = self.convert_to_array(X)\n",
        "        y = self.convert_to_array(y)\n",
        "       \n",
        "        if len(X) == 0: return tree_split()\n",
        "        current_score = self.split_criteria(y)\n",
        "\n",
        "        best_gain = 0.0\n",
        "        best_criteria = None\n",
        "        best_sets = None\n",
        "        \n",
        "        self.data_cols = X.shape[1]\n",
        "        \n",
        "        \n",
        "        # Here we go through column by column and try every possible split, measuring the\n",
        "        # information gain. We keep track of the best split then use that to send the split\n",
        "        # data sets into the next phase of splitting.\n",
        "        \n",
        "        for col in range(self.data_cols):\n",
        "            column_values = set(X.T[col])\n",
        "            for value in column_values:\n",
        "                set1, set1_y, set2, set2_y = self.split_data(X, y, col, value)\n",
        "                p = float(len(set1)) / len(y)\n",
        "                gain = current_score - p*self.split_criteria(set1_y) - (1-p)*self.split_criteria(set2_y)\n",
        "                if gain > best_gain and len(set1_y) and len(set2_y):\n",
        "                    best_gain = gain\n",
        "                    best_criteria = (col, value)\n",
        "                    best_sets = (np.array(set1), np.array(set1_y), np.array(set2), np.array(set2_y))\n",
        "        \n",
        "        # Now decide whether it's an endpoint or we need to split again.\n",
        "        if (self.max_depth and depth < self.max_depth) or not self.max_depth:\n",
        "            if best_gain > 0:\n",
        "                self.current_depth += 1\n",
        "                true_branch = self._fit(best_sets[0], best_sets[1], depth=depth+1)\n",
        "                false_branch = self._fit(best_sets[2], best_sets[3], depth=depth+1)\n",
        "                return self.tree_split(col=best_criteria[0], value=best_criteria[1],\n",
        "                        tb=true_branch, fb=false_branch)\n",
        "            else:\n",
        "                 return self.tree_split(results=self.get_mean_target_value(y))\n",
        "        else:\n",
        "            return self.tree_split(results=self.get_mean_target_value(y))\n",
        "\n",
        "    def print_tree(self, indent=\"---\"):\n",
        "        \"\"\"\n",
        "        Helper function to make sure the correct tree gets printed.\n",
        "        ---\n",
        "        In: indent (how to show splits between nodes)\n",
        "        \"\"\"\n",
        "        self.__original_indent = indent\n",
        "        self._print_tree_(self.tree, indent)\n",
        "    \n",
        "    def _print_tree_(self, tree, indent):\n",
        "        \"\"\"\n",
        "        Goes through node by node and reports the column and value used to split\n",
        "        at that node. All sub-nodes are drawn in sequence below the node.\n",
        "        \"\"\"\n",
        "        if tree.results: # if this is a end node\n",
        "            print(str(tree.results))\n",
        "        else:\n",
        "            print('Column ' + str(tree.col)+' : '+str(tree.value)+'? ')\n",
        "            # Print the branches\n",
        "            print(indent+' True: ', end=' ')\n",
        "            next_indent = indent+self.__original_indent\n",
        "            self._print_tree_(tree.tb,indent=next_indent)\n",
        "            print(indent+' False: ', end=' ')\n",
        "            self._print_tree_(tree.fb,indent=next_indent)\n",
        "\n",
        "    def predict(self, newdata): \n",
        "        \"\"\"\n",
        "        Helper function to make sure the correct tree is used to\n",
        "        make predictions. Also manages multiple rows of input data\n",
        "        since the tree must predict one at a time.\n",
        "        ---\n",
        "        In: new data point of the same structure as the training X.\n",
        "        Out: numpy array of the resulting predictions\n",
        "        \"\"\"\n",
        "        results = []\n",
        "        newdata = self.convert_to_array(newdata)\n",
        "        for x in newdata:\n",
        "            results.append(self._predict(x,self.tree))\n",
        "        return np.array(results)\n",
        "            \n",
        "    def _predict(self, newdata, tree):\n",
        "        \"\"\"\n",
        "        Uses the reusive structure of the tree to follow each split for\n",
        "        a new data point. If the node is an endpoint, the available classes\n",
        "        are sorted by \"most common\" and then the top choice is returned.\n",
        "        \"\"\"\n",
        "        if tree.results: # if this is a end node\n",
        "            return tree.results\n",
        "\n",
        "        if isinstance(newdata[tree.col], int) or isinstance(newdata[tree.col],float):\n",
        "            if newdata[tree.col] >= tree.value:\n",
        "                return self._predict(newdata, tree.tb)\n",
        "\n",
        "            else:\n",
        "                return self._predict(newdata, tree.fb)\n",
        "        else:\n",
        "            if newdata[tree.col] == tree.value:\n",
        "                return self._predict(newdata, tree.tb)\n",
        "            else:\n",
        "                return self._predict(newdata, tree.fb) \n",
        "       \n",
        "    def score(self, X, y):\n",
        "        \"\"\"\n",
        "        Uses the predict method to measure the accuracy of the model.\n",
        "        ---\n",
        "        In: X (list or array), feature matrix; y (list or array) labels\n",
        "        Out: accuracy (float)\n",
        "        \"\"\"\n",
        "        pred = self.predict(X)\n",
        "        return np.mean((pred-y)**2)"
      ],
      "metadata": {
        "id": "UqAxr0Lutn3C"
      },
      "execution_count": 25,
      "outputs": []
    },
    {
      "cell_type": "markdown",
      "source": [
        "### Actually get the data, train, test, and report accuracy\n",
        "\n",
        "silly function to generate the test data, just to keep it clean"
      ],
      "metadata": {
        "id": "cg5abSmJvKd3"
      }
    },
    {
      "cell_type": "code",
      "source": [
        "def get_data():\n",
        "  x = np.linspace(-10,10,300)\n",
        "  y = np.sin(x)\n",
        "  return x, y"
      ],
      "metadata": {
        "id": "GYd-QyxcviFU"
      },
      "execution_count": 26,
      "outputs": []
    },
    {
      "cell_type": "code",
      "source": [
        "import pandas as pd \n",
        "X,y = get_data()"
      ],
      "metadata": {
        "id": "4W0TsgvXvyZ0"
      },
      "execution_count": 27,
      "outputs": []
    },
    {
      "cell_type": "code",
      "source": [
        "plt.plot(X,y);"
      ],
      "metadata": {
        "colab": {
          "base_uri": "https://localhost:8080/",
          "height": 347
        },
        "id": "ag_79ByhwGoL",
        "outputId": "a6fda0ae-3aea-48b3-be85-26fc1d4a3890"
      },
      "execution_count": 28,
      "outputs": [
        {
          "output_type": "display_data",
          "data": {
            "text/plain": [
              "<Figure size 576x396 with 1 Axes>"
            ],
            "image/png": "[encoded data removed]"
          },
          "metadata": {}
        }
      ]
    },
    {
      "cell_type": "code",
      "source": [
        "dt = decision_tree_regressor(criteria='mae')\n",
        "dt.fit(X,y)"
      ],
      "metadata": {
        "colab": {
          "base_uri": "https://localhost:8080/"
        },
        "id": "f0sdN36uwLmQ",
        "outputId": "ed98c1e4-f410-4b66-868e-21d28ac34898"
      },
      "execution_count": 29,
      "outputs": [
        {
          "output_type": "stream",
          "name": "stderr",
          "text": [
            "/usr/local/lib/python3.7/dist-packages/ipykernel_launcher.py:92: DeprecationWarning: The default dtype for empty Series will be 'object' instead of 'float64' in a future version. Specify a dtype explicitly to silence this warning.\n",
            "/usr/local/lib/python3.7/dist-packages/numpy/core/fromnumeric.py:3441: RuntimeWarning: Mean of empty slice.\n",
            "  out=out, **kwargs)\n",
            "/usr/local/lib/python3.7/dist-packages/numpy/core/_methods.py:189: RuntimeWarning: invalid value encountered in double_scalars\n",
            "  ret = ret.dtype.type(ret / rcount)\n"
          ]
        }
      ]
    },
    {
      "cell_type": "code",
      "source": [
        "dt.data_cols"
      ],
      "metadata": {
        "colab": {
          "base_uri": "https://localhost:8080/"
        },
        "id": "kzTOmTnhwbRG",
        "outputId": "8c1ac195-17cc-495e-9671-15a56674fb45"
      },
      "execution_count": 30,
      "outputs": [
        {
          "output_type": "execute_result",
          "data": {
            "text/plain": [
              "1"
            ]
          },
          "metadata": {},
          "execution_count": 30
        }
      ]
    },
    {
      "cell_type": "code",
      "source": [
        "def shuffle_data(X, y):\n",
        "    assert len(X) == len(y)\n",
        "    permute = np.random.permutation(len(y))\n",
        "    return X[permute], y[permute]\n",
        "\n",
        "def train_test_split_manual(X, y, test_size=0.3):\n",
        "    nX, ny = shuffle_data(X,y)\n",
        "    split_index = int(len(X)*test_size)\n",
        "    testX = nX[:split_index]\n",
        "    trainX = nX[split_index:]\n",
        "    testy = ny[:split_index]\n",
        "    trainy = ny[split_index:]\n",
        "    return trainX, testX, trainy, testy\n"
      ],
      "metadata": {
        "id": "AJCoofuvwhPM"
      },
      "execution_count": 31,
      "outputs": []
    },
    {
      "cell_type": "code",
      "source": [
        "x_train, x_test, y_train, y_test = train_test_split_manual(X,y,test_size=0.3)\n"
      ],
      "metadata": {
        "id": "H9Rj7nl8woAW"
      },
      "execution_count": 32,
      "outputs": []
    },
    {
      "cell_type": "code",
      "source": [
        "dt = decision_tree_regressor()\n",
        "dt.fit(x_train,y_train)\n",
        "dt.score(x_test, y_test)"
      ],
      "metadata": {
        "colab": {
          "base_uri": "https://localhost:8080/"
        },
        "id": "QEjYm7Nqwrh9",
        "outputId": "d0bf4579-d0d2-4694-8d5e-45ec01f0d740"
      },
      "execution_count": 33,
      "outputs": [
        {
          "output_type": "stream",
          "name": "stderr",
          "text": [
            "/usr/local/lib/python3.7/dist-packages/ipykernel_launcher.py:92: DeprecationWarning: The default dtype for empty Series will be 'object' instead of 'float64' in a future version. Specify a dtype explicitly to silence this warning.\n",
            "/usr/local/lib/python3.7/dist-packages/numpy/core/_methods.py:263: RuntimeWarning: Degrees of freedom <= 0 for slice\n",
            "  keepdims=keepdims, where=where)\n",
            "/usr/local/lib/python3.7/dist-packages/numpy/core/_methods.py:223: RuntimeWarning: invalid value encountered in true_divide\n",
            "  subok=False)\n",
            "/usr/local/lib/python3.7/dist-packages/numpy/core/_methods.py:254: RuntimeWarning: invalid value encountered in double_scalars\n",
            "  ret = ret.dtype.type(ret / rcount)\n"
          ]
        },
        {
          "output_type": "execute_result",
          "data": {
            "text/plain": [
              "0.006778105452269524"
            ]
          },
          "metadata": {},
          "execution_count": 33
        }
      ]
    },
    {
      "cell_type": "code",
      "source": [
        "pred = dt.predict(x_test)\n",
        "pred"
      ],
      "metadata": {
        "colab": {
          "base_uri": "https://localhost:8080/"
        },
        "id": "wweBxq6ZwyIn",
        "outputId": "fc66644d-c589-48b6-a8e9-89eee6ba387f"
      },
      "execution_count": 34,
      "outputs": [
        {
          "output_type": "stream",
          "name": "stderr",
          "text": [
            "/usr/local/lib/python3.7/dist-packages/ipykernel_launcher.py:92: DeprecationWarning: The default dtype for empty Series will be 'object' instead of 'float64' in a future version. Specify a dtype explicitly to silence this warning.\n"
          ]
        },
        {
          "output_type": "execute_result",
          "data": {
            "text/plain": [
              "array([ 0.78793621, -0.17082232, -0.78519443, -0.42523609, -0.9999846 ,\n",
              "       -0.69398609,  0.64938942,  0.99999938,  0.96412518, -0.99753561,\n",
              "        0.94639886, -0.99150356, -0.99121234,  0.03121969,  0.99999938,\n",
              "       -0.54029019, -0.99091623, -0.94639886, -0.64769957,  0.03343858,\n",
              "        0.35342775, -0.78519443,  0.94567945, -0.162066  ,  0.86190232,\n",
              "        0.5881677 , -0.85850603, -0.69398609, -0.8938676 ,  0.92010501,\n",
              "       -0.73756699,  0.94639886,  0.78793621,  0.4191987 , -0.29647859,\n",
              "        0.03787587,  0.92010501, -0.02678145,  0.78381772, -0.9635335 ,\n",
              "        0.82482899,  0.4808924 , -0.42121325,  0.78656726, -0.16863447,\n",
              "       -0.4191987 ,  0.1664458 , -0.4191987 ,  0.15987489,  0.92010501,\n",
              "       -0.89287007, -0.85736546,  0.78381772,  0.94275523, -0.16863447,\n",
              "       -0.16863447,  0.82231051, -0.94275523, -0.4191987 , -0.16863447,\n",
              "       -0.78793621, -0.4191987 ,  0.02900064,  0.22765971,  0.64261089,\n",
              "       -0.9999846 , -0.9635335 ,  0.23413989, -0.47699467,  0.64261089,\n",
              "        0.94639886, -0.9999846 , -0.64769957, -0.35550365,  0.64769957,\n",
              "        0.78381772, -0.78656726,  0.64261089, -0.85736546, -0.16863447,\n",
              "       -0.9999846 , -0.162066  ,  0.02900064, -0.42724437, -0.78793621,\n",
              "        0.29647859, -0.89186815,  0.53467386,  0.64600652, -0.96412518])"
            ]
          },
          "metadata": {},
          "execution_count": 34
        }
      ]
    },
    {
      "cell_type": "code",
      "source": [
        "plt.plot(X,y)\n",
        "plt.scatter(x_test,pred,c='r', marker='x');\n"
      ],
      "metadata": {
        "colab": {
          "base_uri": "https://localhost:8080/",
          "height": 347
        },
        "id": "rHQt0Z1Uw5eV",
        "outputId": "8db182fa-1afe-451e-a0ff-7d204306ef1b"
      },
      "execution_count": 35,
      "outputs": [
        {
          "output_type": "display_data",
          "data": {
            "text/plain": [
              "<Figure size 576x396 with 1 Axes>"
            ],
            "image/png": "[encoded data removed]"
          },
          "metadata": {}
        }
      ]
    },
    {
      "cell_type": "markdown",
      "source": [
        "### Let's try again, but limit the depth"
      ],
      "metadata": {
        "id": "oXlEx-8axBsx"
      }
    },
    {
      "cell_type": "code",
      "source": [
        "dt2 = decision_tree_regressor(max_depth=3, criteria='mae')\n",
        "dt2.fit(X,y)"
      ],
      "metadata": {
        "colab": {
          "base_uri": "https://localhost:8080/"
        },
        "id": "ob6l-ZaOxAPf",
        "outputId": "c2befa78-b919-47a3-fde3-7c00ba16770f"
      },
      "execution_count": 36,
      "outputs": [
        {
          "output_type": "stream",
          "name": "stderr",
          "text": [
            "/usr/local/lib/python3.7/dist-packages/ipykernel_launcher.py:92: DeprecationWarning: The default dtype for empty Series will be 'object' instead of 'float64' in a future version. Specify a dtype explicitly to silence this warning.\n",
            "/usr/local/lib/python3.7/dist-packages/numpy/core/fromnumeric.py:3441: RuntimeWarning: Mean of empty slice.\n",
            "  out=out, **kwargs)\n",
            "/usr/local/lib/python3.7/dist-packages/numpy/core/_methods.py:189: RuntimeWarning: invalid value encountered in double_scalars\n",
            "  ret = ret.dtype.type(ret / rcount)\n"
          ]
        }
      ]
    },
    {
      "cell_type": "code",
      "source": [
        "preds = dt2.predict(X[:])\n",
        "plt.plot(X,y)\n",
        "plt.scatter(X[:],preds,c='r', marker='x');"
      ],
      "metadata": {
        "colab": {
          "base_uri": "https://localhost:8080/",
          "height": 384
        },
        "id": "y3vIfj-GxPaU",
        "outputId": "fac3ac60-8ad4-4d5b-956d-9a5ace8e78ab"
      },
      "execution_count": 37,
      "outputs": [
        {
          "output_type": "stream",
          "name": "stderr",
          "text": [
            "/usr/local/lib/python3.7/dist-packages/ipykernel_launcher.py:92: DeprecationWarning: The default dtype for empty Series will be 'object' instead of 'float64' in a future version. Specify a dtype explicitly to silence this warning.\n"
          ]
        },
        {
          "output_type": "display_data",
          "data": {
            "text/plain": [
              "<Figure size 576x396 with 1 Axes>"
            ],
            "image/png": "[encoded data removed]"
          },
          "metadata": {}
        }
      ]
    },
    {
      "cell_type": "code",
      "source": [
        "dt2.print_tree()"
      ],
      "metadata": {
        "colab": {
          "base_uri": "https://localhost:8080/"
        },
        "id": "jryHkRX8xbZK",
        "outputId": "cfaffbd1-665f-4873-b266-fa3ee933af16"
      },
      "execution_count": 38,
      "outputs": [
        {
          "output_type": "stream",
          "name": "stdout",
          "text": [
            "Column 0 : -6.454849498327759? \n",
            "--- True:  Column 0 : -3.4448160535117056? \n",
            "------ True:  Column 0 : -0.16722408026755886? \n",
            "--------- True:  0.17594881190873274\n",
            "--------- False:  -0.5870629153499087\n",
            "------ False:  Column 0 : -5.719063545150502? \n",
            "--------- True:  0.7943999007848788\n",
            "--------- False:  0.1584643864243237\n",
            "--- False:  Column 0 : -9.063545150501673? \n",
            "------ True:  Column 0 : -6.923076923076923? \n",
            "--------- True:  -0.4214408080616327\n",
            "--------- False:  -0.8076852067603859\n",
            "------ False:  Column 0 : -9.531772575250836? \n",
            "--------- True:  -0.09270251338495068\n",
            "--------- False:  0.3625913741734876\n"
          ]
        }
      ]
    }
  ]
}