{
  "nbformat": 4,
  "nbformat_minor": 0,
  "metadata": {
    "colab": {
      "provenance": [],
      "collapsed_sections": []
    },
    "kernelspec": {
      "name": "python3",
      "display_name": "Python 3"
    },
    "language_info": {
      "name": "python"
    }
  },
  "cells": [
    {
      "cell_type": "markdown",
      "source": [
        "# Latent Dirichlet Allocation \n",
        "## (Under Construction)\n",
        "\n",
        "Z.W Miller - Copyright 2018"
      ],
      "metadata": {
        "id": "zO44WyoFm5Pl"
      }
    },
    {
      "cell_type": "code",
      "execution_count": 1,
      "metadata": {
        "id": "Fq85R2Dbm1uA"
      },
      "outputs": [],
      "source": [
        "import numpy as np\n",
        "import random\n",
        "import matplotlib.pyplot as plt\n",
        "import pandas as pd\n",
        "import math\n",
        "import scipy\n",
        "%matplotlib inline\n",
        "plt.style.use('seaborn')"
      ]
    },
    {
      "cell_type": "code",
      "source": [
        "import sklearn\n",
        "import matplotlib\n",
        "import sys\n",
        "libraries = (('Matplotlib', matplotlib), ('Numpy', np), ('Pandas', pd), ('Scipy', scipy), ('Sklearn', sklearn))\n",
        "\n",
        "print(\"Python Version:\", sys.version, '\\n')\n",
        "for lib in libraries:\n",
        "    print('{0} Version: {1}'.format(lib[0], lib[1].__version__))\n"
      ],
      "metadata": {
        "colab": {
          "base_uri": "https://localhost:8080/"
        },
        "id": "CguEbXOyns9v",
        "outputId": "a98a3a65-7686-42b5-e4cc-ff597101ac80"
      },
      "execution_count": 2,
      "outputs": [
        {
          "output_type": "stream",
          "name": "stdout",
          "text": [
            "Python Version: 3.7.15 (default, Oct 12 2022, 19:14:55) \n",
            "[GCC 7.5.0] \n",
            "\n",
            "Matplotlib Version: 3.2.2\n",
            "Numpy Version: 1.21.6\n",
            "Pandas Version: 1.3.5\n",
            "Scipy Version: 1.7.3\n",
            "Sklearn Version: 1.0.2\n"
          ]
        }
      ]
    },
    {
      "cell_type": "code",
      "source": [
        "import numpy as np\n",
        "from string import punctuation\n",
        "\n",
        "class latent_dirichlet_allocation:\n",
        "    \n",
        "    def __init__(self, num_topics=2, num_iter=5, alpha=1, eta=0.001, tokenizer=None, \n",
        "                 remove_stopwords=False, verbose=False):\n",
        "        \"\"\"\n",
        "        Latent Dirichlet Allocation is based on the idea of being \n",
        "        able to generate documents. The idea is that every doc is \n",
        "        made of a series of topics and each topic is made of a \n",
        "        series of words. If one wanted to generate a document, we\n",
        "        could just randomly choose a topic, then choose a word from\n",
        "        that topic. In practice, we want to do the reverse, which is\n",
        "        to extract a set of topics given a corpus of docs. To do that\n",
        "        we'll rely on Gibbs Sampling, which is a Monte Carlo style method\n",
        "        of assigning every word a topic, then iteratively looping\n",
        "        through all the words and deciding, what topic is this more likely\n",
        "        to belong to given what we know about the topics right now using\n",
        "        a Bayesian understanding of the process. For the process we will\n",
        "        assume the prior distribution is a Dirichlet distribtution. This\n",
        "        module also has tokenization built in.\n",
        "        ---\n",
        "        KWargs:\n",
        "        num_topics: how many topics to look for\n",
        "        num_iter: how many times to iteratively assign topics (more\n",
        "        iterations leads to better topics, which a decaying return)\n",
        "        alpha: Hyperparameter that sets information about the \n",
        "        Dirichlet prior. In general, the larger this is, the more\n",
        "        narrow we assume the topics to be and the harder it is to find\n",
        "        unique topics.\n",
        "        eta: Hyperparameter that causes more \"randomness\" to the topic\n",
        "        distribution while assigning. This causes topics to not get stuck\n",
        "        in \"all the same topic\" ruts.\n",
        "        tokenizer: allows the user to use their own tokenizer. If None,\n",
        "        uses default tokenizer\n",
        "        remove_stopwords: flag to choose whether to keep common words or not.\n",
        "        If False, it will be easy to get topics that are just articles and other\n",
        "        common words.\n",
        "        verbose: flag to set level of printing. If True, prints every time a \n",
        "        word changes topics.\n",
        "        \"\"\"\n",
        "        self.num_topics = num_topics\n",
        "        self.num_iter = num_iter\n",
        "        if tokenizer == None:\n",
        "            self.tokenizer = self.tokenize\n",
        "        else:\n",
        "            self.tokenizer = tokenizer\n",
        "        self.alpha = alpha\n",
        "        self.eta = eta\n",
        "        self.verbose = verbose\n",
        "        self.remove_stopwords = remove_stopwords\n",
        "        self.vocabulary = {}\n",
        "        self.id_to_vocabulary = {}\n",
        "        self.stopwords = {'ourselves', 'hers', 'between', 'yourself', 'but', 'again', \n",
        "                          'there', 'about', 'once', 'during', 'out', 'very', 'having', \n",
        "                          'with', 'they', 'own', 'an', 'be', 'some', 'for', 'do', 'its', \n",
        "                          'yours', 'such', 'into', 'of', 'most', 'itself', 'other', 'off', \n",
        "                          'is', 's', 'am', 'or', 'who', 'as', 'from', 'him', 'each', 'the', \n",
        "                          'themselves', 'until', 'below', 'are', 'we', 'these', 'your', \n",
        "                          'his', 'through', 'don', 'nor', 'me', 'were', 'her', 'more', \n",
        "                          'himself', 'this', 'down', 'should', 'our', 'their', 'while', \n",
        "                          'above', 'both', 'up', 'to', 'ours', 'had', 'she', 'all', 'no', \n",
        "                          'when', 'at', 'any', 'before', 'them', 'same', 'and', 'been', \n",
        "                          'have', 'in', 'will', 'on', 'does', 'yourselves', 'then', 'that', \n",
        "                          'because', 'what', 'over', 'why', 'so', 'can', 'did', 'not', 'now', \n",
        "                          'under', 'he', 'you', 'herself', 'has', 'just', 'where', 'too', 'only', \n",
        "                          'myself', 'which', 'those', 'i', 'after', 'few', 'whom', 't', 'being', \n",
        "                          'if', 'theirs', 'my', 'against', 'a', 'by', 'doing', 'it', 'how', 'further', \n",
        "                          'was', 'here', 'than'}\n",
        "        \n",
        "    def fit(self, X):\n",
        "        \"\"\"\n",
        "        Tokenizes the documents, then creates several lookup\n",
        "        tables between words and ids. Assigns ever word a random\n",
        "        topic. Then uses Gibbs sampling to loop through the \n",
        "        documents and update the topics assigned to each word\n",
        "        using Bayes rule and a Dirichlet prior. The Bayes rule\n",
        "        stuff is tucked in the calculation of p_topics. Once the\n",
        "        word is updated, updates the data used for choosing word\n",
        "        topics. \n",
        "        \"\"\"\n",
        "        # tokenize\n",
        "        tokenized_docs = [self.tokenizer(x) for x in X]\n",
        "\n",
        "        # create a token to id mapper\n",
        "        idx = 0\n",
        "        for doc in tokenized_docs:\n",
        "            for token in doc:\n",
        "                if token not in self.vocabulary:\n",
        "                    self.vocabulary[token] = idx\n",
        "                    idx += 1\n",
        "                    \n",
        "        # create the reverse mapper\n",
        "        for entry in self.vocabulary.items():\n",
        "            self.id_to_vocabulary[entry[1]] = entry[0]\n",
        "        \n",
        "        # convert docs to ids\n",
        "        docs_as_ids = []\n",
        "        token_topics = []\n",
        "        \n",
        "        # Setup arrays to store information needed to calculate priors\n",
        "        # word_topic counts how often each word is assigned to each topic\n",
        "        # doc_topic counts how much of each topic is in each document\n",
        "        word_topic = np.zeros((self.num_topics, len(self.vocabulary)))\n",
        "        doc_topic = np.zeros((len(tokenized_docs), self.num_topics))\n",
        "        \n",
        "        # assign a random topic to each token in each document and\n",
        "        # update the arrays for calculating priors.\n",
        "        for doc_id, doc in enumerate(tokenized_docs):\n",
        "            temp_document = []\n",
        "            temp_topic_assignments = []\n",
        "            for token in doc:\n",
        "                random_topic = np.random.randint(0,self.num_topics)\n",
        "                token_id = self.vocabulary[token]\n",
        "                temp_document.append(token_id)\n",
        "                temp_topic_assignments.append(random_topic)\n",
        "                word_topic[random_topic][token_id] += 1\n",
        "                doc_topic[doc_id][random_topic] += 1\n",
        "                \n",
        "            docs_as_ids.append(temp_document)\n",
        "            token_topics.append(temp_topic_assignments)\n",
        "\n",
        "\n",
        "       # iterative method for doing LDA via Gibbs-Sampling\n",
        "        for iteration in range(self.num_iter):\n",
        "            for doc_id, doc in enumerate(docs_as_ids):\n",
        "                for token_position, token_id in enumerate(doc):\n",
        "                    # Find the current topic and remove counts from that so a \n",
        "                    # word can't vote on what topic itself should be\n",
        "                    topic_of_token = token_topics[doc_id][token_position]\n",
        "                    doc_topic[doc_id][topic_of_token] -= 1\n",
        "                    word_topic[topic_of_token][token_id] -= 1\n",
        "                    \n",
        "                    # Calculate the probability of the word belonging\n",
        "                    # to each topic assuming a Dirichlet Prior for the topics\n",
        "                    \n",
        "                    # number of tokens in document + num_topics scaled\n",
        "                    denom_1 = np.sum(doc_topic[doc_id]) + self.alpha*self.num_topics\n",
        "                    # number of tokens in topic + num tokens scaled\n",
        "                    denom_2 = np.sum(word_topic, axis=1) + self.eta*len(self.vocabulary)\n",
        "                    \n",
        "                    p_topics = (word_topic[:,token_id]+self.eta)/(denom_2*(doc_topic[doc_id]+self.alpha))/denom_1\n",
        "                    p_topics = p_topics/np.sum(p_topics)\n",
        "                    \n",
        "                    # Given the probs for each topic, randomly choose a topic\n",
        "                    # weighted by those probabilities\n",
        "                    new_topic = np.random.multinomial(1, p_topics) #returns an array of size p_topics\n",
        "                    new_topic = np.argmax(new_topic)\n",
        "                    \n",
        "                    # Assign the topic to that word and update all of the\n",
        "                    # information needed to calculate priors\n",
        "                    token_topics[doc_id][token_position] = new_topic\n",
        "                    doc_topic[doc_id][new_topic] += 1\n",
        "                    word_topic[new_topic][token_id] += 1\n",
        "                    if topic_of_token != new_topic and self.verbose:\n",
        "                        print(\"TOPIC CHANGE for Doc %i, Token %i: %i -> %i\"%(doc_id, token_position,\n",
        "                                                                             topic_of_token, new_topic))\n",
        "        # Normalize the understanding of the documents and topics to \n",
        "        # sum to 1, and store for later usage when converting documents.\n",
        "        self.doc_topics = self.normalize_by_row(doc_topic)\n",
        "        self.word_topic = self.normalize_by_row(word_topic)\n",
        "        \n",
        "    def normalize_by_row(self, matrix):\n",
        "        \"\"\"\n",
        "        Takes in a matrix of values and normalizes\n",
        "        such that each row will sum to 1.\n",
        "        \"\"\"\n",
        "        return (matrix.T/np.sum(matrix.T, axis=0)).T\n",
        "        \n",
        "    def tokenize(self, X):\n",
        "        \"\"\" \n",
        "         Simple tokenizer that removes punctuation,\n",
        "        lowercases the text, and breaks on spaces.\n",
        "        Also removes stopwords and numeric values\n",
        "        from being treated as words.\n",
        "        \"\"\"\n",
        "        for symbol in punctuation:\n",
        "            X = X.replace(symbol,'')\n",
        "        final_token_list = [] \n",
        "        for token in X.lower().split():\n",
        "            if self.remove_stopwords:\n",
        "                if not self.check_stopwords(token):\n",
        "                    try:\n",
        "                        int(token)\n",
        "                        float(token)\n",
        "                    except:\n",
        "                        final_token_list.append(token)  \n",
        "            else:\n",
        "                final_token_list.append(token)\n",
        "        return final_token_list\n",
        "    \n",
        "    def check_stopwords(self, token):\n",
        "        \"\"\"\n",
        "        Checks if the token is in our list of common\n",
        "        stopwords, and returns a boolean.\n",
        "        \"\"\"\n",
        "        return token in self.stopwords\n",
        "    \n",
        "    def print_topics(self, num_words_per_topics=10):\n",
        "        \"\"\"\n",
        "        For each topic created in the Gibbs sampling\n",
        "        find the words that have the largest probability\n",
        "        of belonging to that topic and print them.\n",
        "        \"\"\"\n",
        "        for idx, row in enumerate(self.word_topic):\n",
        "            sorted_word_ids = np.argsort(row)[-num_words_per_topics:]\n",
        "            print(\"--- Topic \", idx, \" ---\")\n",
        "            words_to_print = \"\"\n",
        "            for word_id in reversed(sorted_word_ids):\n",
        "                if self.id_to_vocabulary != None:\n",
        "                    words_to_print += self.id_to_vocabulary[word_id]\n",
        "                    words_to_print += ', '\n",
        "                else:\n",
        "                    words_to_print += \"Column \"\n",
        "                    words_to_print += str(word_id)\n",
        "                    words_to_print += ', '\n",
        "            print(words_to_print[:-2])\n",
        "            \n",
        "    def transform(self, X):\n",
        "        \"\"\"\n",
        "        Take new set of documents X and figure out how much of \n",
        "        each topic they contain.\n",
        "        \"\"\"\n",
        "        \n",
        "        # tokenize the new documents and create an array\n",
        "        # to store the amount of each topic in the documents\n",
        "        tokenized_docs = [self.tokenizer(x) for x in X]\n",
        "        new_doc_topics = np.zeros((len(X), self.num_topics))\n",
        "\n",
        "\n",
        "         # Loop through documents and tokens in each document\n",
        "        # add up the \"amount\" that each token in the doc belongs \n",
        "        # to each topic. Return that as the understanding of the\n",
        "        # new documents in the latent topic space.\n",
        "        for doc_id, doc in enumerate(tokenized_docs):\n",
        "            for token in doc:\n",
        "                try:\n",
        "                    id_of_token = self.vocabulary[token]\n",
        "                except KeyError: # if token not in vocab\n",
        "                    continue\n",
        "                new_doc_topics[doc_id] += self.word_topic.T[id_of_token]\n",
        "        new_doc_topics = self.normalize_by_row(new_doc_topics)\n",
        "        return new_doc_topics\n",
        "    \n",
        "    def pandas_to_numpy(self, x):\n",
        "        \"\"\"\n",
        "        Checks if the input is a Dataframe or series, converts to numpy matrix for\n",
        "        calculation purposes.\n",
        "        ---\n",
        "        Input: X (array, dataframe, or series)\n",
        "        Output: X (array)\n",
        "        \"\"\"\n",
        "        if type(x) == type(pd.DataFrame()) or type(x) == type(pd.Series()):\n",
        "            return x.as_matrix()\n",
        "        if type(x) == type(np.array([1,2])):\n",
        "            return x\n",
        "        return np.array(x) \n",
        "    \n",
        "    def handle_1d_data(self,x):\n",
        "        \"\"\" \n",
        "        Converts 1 dimensional data into a series of rows with 1 columns\n",
        "        instead of 1 row with many columns.\n",
        "        \"\"\"\n",
        "        if x.ndim == 1:\n",
        "            x = x.reshape(-1,1)\n",
        "        return x\n",
        "    \n",
        "    def convert_to_array(self, x):\n",
        "        \"\"\"\n",
        "        Takes in an input and converts it to a numpy array\n",
        "        and then checks if it needs to be reshaped for us\n",
        "        to use it properly\n",
        "        \"\"\"\n",
        "        x = self.pandas_to_numpy(x)\n",
        "        x = self.handle_1d_data(x)\n",
        "        return x\n",
        "                     \n",
        "        \n"
      ],
      "metadata": {
        "id": "rY4O4SGjn4ac"
      },
      "execution_count": 3,
      "outputs": []
    },
    {
      "cell_type": "code",
      "source": [
        "from sklearn import datasets\n",
        "\n",
        "categories = ['comp.graphics', 'rec.sport.baseball']\n",
        "ng_train = datasets.fetch_20newsgroups(subset='train', \n",
        "                                       categories=categories, \n",
        "                                       remove=('headers', \n",
        "                                               'footers', 'quotes'))\n",
        "data = ng_train.data\n",
        "len(data)"
      ],
      "metadata": {
        "colab": {
          "base_uri": "https://localhost:8080/"
        },
        "id": "_UthrzJbprhz",
        "outputId": "a466ab6d-ec3f-4c65-e170-309b4897ed0f"
      },
      "execution_count": 4,
      "outputs": [
        {
          "output_type": "execute_result",
          "data": {
            "text/plain": [
              "1181"
            ]
          },
          "metadata": {},
          "execution_count": 4
        }
      ]
    },
    {
      "cell_type": "code",
      "source": [
        "lda = latent_dirichlet_allocation(num_topics=4,num_iter=200, remove_stopwords=True)\n",
        "doc_topics = lda.fit(data)\n"
      ],
      "metadata": {
        "colab": {
          "base_uri": "https://localhost:8080/"
        },
        "id": "gUT5ESUTpwJr",
        "outputId": "2e06b860-f1dd-4dfd-ef35-4fea7a2d8d5d"
      },
      "execution_count": 5,
      "outputs": [
        {
          "output_type": "stream",
          "name": "stderr",
          "text": [
            "/usr/local/lib/python3.7/dist-packages/ipykernel_launcher.py:169: RuntimeWarning: invalid value encountered in true_divide\n"
          ]
        }
      ]
    },
    {
      "cell_type": "code",
      "source": [
        "lda.print_topics(num_words_per_topics=15)"
      ],
      "metadata": {
        "colab": {
          "base_uri": "https://localhost:8080/"
        },
        "id": "xMXh__F_uVV2",
        "outputId": "b133d93e-ec03-4c8a-d056-8a52f9684714"
      },
      "execution_count": 6,
      "outputs": [
        {
          "output_type": "stream",
          "name": "stdout",
          "text": [
            "--- Topic  0  ---\n",
            "image, one, think, good, dont, well, much, game, need, find, get, package, way, line, want\n",
            "--- Topic  1  ---\n",
            "graphics, file, use, year, would, available, see, anyone, team, two, color, information, used, new, baseball\n",
            "--- Topic  2  ---\n",
            "like, last, data, software, could, images, program, may, files, many, please, even, games, 3d, players\n",
            "--- Topic  3  ---\n",
            "also, know, time, better, first, would, runs, format, email, version, using, years, im, help, got\n"
          ]
        }
      ]
    },
    {
      "cell_type": "code",
      "source": [
        "latent_space_documents = lda.transform(data)\n",
        "plt.scatter(latent_space_documents[:,2],latent_space_documents[:,3], alpha=0.5);\n"
      ],
      "metadata": {
        "colab": {
          "base_uri": "https://localhost:8080/",
          "height": 384
        },
        "id": "gs6tlOoxQ-oh",
        "outputId": "01e424d1-e4f8-44b6-e52e-0f9bd3eb5dc8"
      },
      "execution_count": 7,
      "outputs": [
        {
          "output_type": "stream",
          "name": "stderr",
          "text": [
            "/usr/local/lib/python3.7/dist-packages/ipykernel_launcher.py:169: RuntimeWarning: invalid value encountered in true_divide\n"
          ]
        },
        {
          "output_type": "display_data",
          "data": {
            "text/plain": [
              "<Figure size 576x396 with 1 Axes>"
            ],
            "image/png": "[encoded data removed]"
          },
          "metadata": {}
        }
      ]
    },
    {
      "cell_type": "code",
      "source": [
        "from sklearn.decomposition import LatentDirichletAllocation\n",
        "from sklearn.feature_extraction.text import CountVectorizer\n",
        "\n",
        "cv = CountVectorizer(stop_words='english')\n",
        "X = cv.fit_transform(data)\n",
        "ld_sk = LatentDirichletAllocation(n_components=5, max_iter=10)\n",
        "ld_sk.fit(X)"
      ],
      "metadata": {
        "colab": {
          "base_uri": "https://localhost:8080/"
        },
        "id": "LQlKdWAZRPSD",
        "outputId": "f6bc48d2-57ee-408c-cb3f-d954109d5147"
      },
      "execution_count": 8,
      "outputs": [
        {
          "output_type": "execute_result",
          "data": {
            "text/plain": [
              "LatentDirichletAllocation(n_components=5)"
            ]
          },
          "metadata": {},
          "execution_count": 8
        }
      ]
    },
    {
      "cell_type": "code",
      "source": [
        "latent_space_documents = ld_sk.transform(X)\n",
        "plt.scatter(latent_space_documents[:,2],latent_space_documents[:,4], alpha=0.5);\n"
      ],
      "metadata": {
        "colab": {
          "base_uri": "https://localhost:8080/",
          "height": 347
        },
        "id": "C6tXBqMURV9F",
        "outputId": "474bb317-b757-4370-f643-20c331619ce3"
      },
      "execution_count": 9,
      "outputs": [
        {
          "output_type": "display_data",
          "data": {
            "text/plain": [
              "<Figure size 576x396 with 1 Axes>"
            ],
            "image/png": "[encoded data removed]"
          },
          "metadata": {}
        }
      ]
    },
    {
      "cell_type": "code",
      "source": [
        "def print_top_words(model, feature_names, n_top_words):\n",
        "    for topic_idx, topic in enumerate(model.components_):\n",
        "        message = \"Topic #%d: \" % topic_idx\n",
        "        message += \" \".join([feature_names[i]\n",
        "                             for i in topic.argsort()[:-n_top_words - 1:-1]])\n",
        "        print(message)\n",
        "    print()\n",
        "cv_feature_names = cv.get_feature_names()\n",
        "print_top_words(ld_sk, cv_feature_names, 10)"
      ],
      "metadata": {
        "colab": {
          "base_uri": "https://localhost:8080/"
        },
        "id": "Rvk7SmtYRadK",
        "outputId": "9b2c4837-f0c9-4d34-a54e-a3db324a9135"
      },
      "execution_count": 10,
      "outputs": [
        {
          "output_type": "stream",
          "name": "stdout",
          "text": [
            "Topic #0: year game good think don team hit better games just\n",
            "Topic #1: graphics know like thanks just points does don need think\n",
            "Topic #2: 333 500 250 15 ab 35 edge 28 400 000\n",
            "Topic #3: image jpeg file files images gif color format use program\n",
            "Topic #4: edu graphics 00 data pub 02 03 ftp 01 3d\n",
            "\n"
          ]
        },
        {
          "output_type": "stream",
          "name": "stderr",
          "text": [
            "/usr/local/lib/python3.7/dist-packages/sklearn/utils/deprecation.py:87: FutureWarning: Function get_feature_names is deprecated; get_feature_names is deprecated in 1.0 and will be removed in 1.2. Please use get_feature_names_out instead.\n",
            "  warnings.warn(msg, category=FutureWarning)\n"
          ]
        }
      ]
    },
    {
      "cell_type": "code",
      "source": [],
      "metadata": {
        "id": "1V4VFkrqRe8h"
      },
      "execution_count": 10,
      "outputs": []
    }
  ]
}