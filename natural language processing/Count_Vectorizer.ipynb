{
  "nbformat": 4,
  "nbformat_minor": 0,
  "metadata": {
    "colab": {
      "provenance": [],
      "collapsed_sections": []
    },
    "kernelspec": {
      "name": "python3",
      "display_name": "Python 3"
    },
    "language_info": {
      "name": "python"
    }
  },
  "cells": [
    {
      "cell_type": "code",
      "source": [
        "import warnings\n",
        "warnings.filterwarnings(\"ignore\")"
      ],
      "metadata": {
        "id": "TEYrbxSDN1j6"
      },
      "execution_count": 1,
      "outputs": []
    },
    {
      "cell_type": "markdown",
      "source": [
        "# Count Vectorizer (for NLP)\n",
        "\n",
        "Z.W.Miller - Copyright 2018"
      ],
      "metadata": {
        "id": "m6uub24tj6_A"
      }
    },
    {
      "cell_type": "code",
      "source": [
        "import numpy as np\n",
        "import random\n",
        "import matplotlib.pyplot as plt\n",
        "import pandas as pd\n",
        "import math\n",
        "import scipy\n",
        "%matplotlib inline\n",
        "plt.style.use('seaborn')"
      ],
      "metadata": {
        "id": "3m-24xhrjyZ5"
      },
      "execution_count": 2,
      "outputs": []
    },
    {
      "cell_type": "code",
      "source": [
        "import sklearn\n",
        "import matplotlib\n",
        "import sys\n",
        "libraries = (('Matplotlib', matplotlib), ('Numpy', np), ('Pandas', pd), ('Scipy', scipy), ('Sklearn', sklearn))\n",
        "\n",
        "print(\"Python Version:\", sys.version, '\\n')\n",
        "for lib in libraries:\n",
        "    print('{0} Version: {1}'.format(lib[0], lib[1].__version__))\n"
      ],
      "metadata": {
        "colab": {
          "base_uri": "https://localhost:8080/"
        },
        "id": "vwLnol7IkjZc",
        "outputId": "879e1e97-24b6-418a-e82d-82784c7230c8"
      },
      "execution_count": 3,
      "outputs": [
        {
          "output_type": "stream",
          "name": "stdout",
          "text": [
            "Python Version: 3.7.15 (default, Oct 12 2022, 19:14:55) \n",
            "[GCC 7.5.0] \n",
            "\n",
            "Matplotlib Version: 3.2.2\n",
            "Numpy Version: 1.21.6\n",
            "Pandas Version: 1.3.5\n",
            "Scipy Version: 1.7.3\n",
            "Sklearn Version: 1.0.2\n"
          ]
        }
      ]
    },
    {
      "cell_type": "code",
      "source": [
        "import numpy as np\n",
        "from collections import Counter\n",
        "from string import punctuation\n",
        "\n",
        "class count_vectorizer:\n",
        "    \n",
        "    def __init__(self, max_features=None, ngrams = (1,1), tokenizer=None, remove_stopwords=False):\n",
        "        \"\"\"\n",
        "        Count vectorizer reads the text provided, tokenizes it\n",
        "        with the provided tokenizer (or the default), then generates\n",
        "        ngrams keeping track of all ngrams as the vocabulary.\n",
        "        Then it takes provided texts and converts them into vectors\n",
        "        by counting the appearance of each ngram and tracking that\n",
        "        for every document. \n",
        "        ---\n",
        "        KWargs:\n",
        "        max_features: how many ngrams to allow in the vector, using the\n",
        "        most common features first. If None, defaults to using all\n",
        "        ngrams (int)\n",
        "        ngrams: how many tokens to combine to form features. First element\n",
        "        of tuple is starting point, second is ending point.\n",
        "        tokenizer: what function to use to create tokens (must return \n",
        "        list of tokens)\n",
        "        remove_stopwords: whether to include very common english words that\n",
        "        do not add much value due to their commonness.\n",
        "        \"\"\"\n",
        "        self.max_features = max_features\n",
        "        self.vocabulary = {}\n",
        "        self.ngrams = ngrams\n",
        "        if tokenizer == None:\n",
        "            self.tokenizer = self.tokenize\n",
        "        else:\n",
        "            self.tokenizer = tokenizer\n",
        "        self.remove_stopwords = remove_stopwords\n",
        "        self.stopwords = {'ourselves', 'hers', 'between', 'yourself', 'but', 'again', \n",
        "                          'there', 'about', 'once', 'during', 'out', 'very', 'having', \n",
        "                          'with', 'they', 'own', 'an', 'be', 'some', 'for', 'do', 'its', \n",
        "                          'yours', 'such', 'into', 'of', 'most', 'itself', 'other', 'off', \n",
        "                          'is', 's', 'am', 'or', 'who', 'as', 'from', 'him', 'each', 'the', \n",
        "                          'themselves', 'until', 'below', 'are', 'we', 'these', 'your', \n",
        "                          'his', 'through', 'don', 'nor', 'me', 'were', 'her', 'more', \n",
        "                          'himself', 'this', 'down', 'should', 'our', 'their', 'while', \n",
        "                          'above', 'both', 'up', 'to', 'ours', 'had', 'she', 'all', 'no', \n",
        "                          'when', 'at', 'any', 'before', 'them', 'same', 'and', 'been', \n",
        "                          'have', 'in', 'will', 'on', 'does', 'yourselves', 'then', 'that', \n",
        "                          'because', 'what', 'over', 'why', 'so', 'can', 'did', 'not', 'now', \n",
        "                          'under', 'he', 'you', 'herself', 'has', 'just', 'where', 'too', 'only', \n",
        "                          'myself', 'which', 'those', 'i', 'after', 'few', 'whom', 't', 'being', \n",
        "                          'if', 'theirs', 'my', 'against', 'a', 'by', 'doing', 'it', 'how', 'further', \n",
        "                          'was', 'here', 'than'}\n",
        "        \n",
        "    def token_generator(self, X):\n",
        "        \"\"\"\n",
        "        Generator that returns joined tokens as a single\n",
        "        string to act as a feature. It generates the tokens\n",
        "        by iterating through the allowed ngrams and combining\n",
        "        the appropriate number of tokens into a string.\n",
        "        \"\"\"\n",
        "        for i in range(self.ngrams[0],self.ngrams[1]+1):\n",
        "            for ix, _ in enumerate(X):\n",
        "                if ix+i < len(X)+1:\n",
        "                    yield ' '.join(X[ix:ix+i])\n",
        "    \n",
        "    def tokenize(self, X):\n",
        "        \"\"\"\n",
        "        Simple tokenizer that removes punctuation,\n",
        "        lowercases the text, and breaks on spaces.\n",
        "        Also removes stopwords and numeric values\n",
        "        from being treated as words.\n",
        "        \"\"\"\n",
        "        for symbol in punctuation:\n",
        "            X = X.replace(symbol,'')\n",
        "        final_token_list = [] \n",
        "        for token in X.lower().split():\n",
        "            if self.remove_stopwords:\n",
        "                if not self.check_stopwords(token):\n",
        "                    try:\n",
        "                        int(token)\n",
        "                        float(token)\n",
        "                    except:\n",
        "                        final_token_list.append(token)  \n",
        "            else:\n",
        "                final_token_list.append(token)\n",
        "        return final_token_list\n",
        "        \n",
        "    def check_stopwords(self, token):\n",
        "        \"\"\"\n",
        "        Checks if the token is in our list of common\n",
        "        stopwords, and returns a boolean.\n",
        "        \"\"\"\n",
        "        return token in self.stopwords\n",
        "    \n",
        "    def fit(self, X):\n",
        "        \"\"\"\n",
        "        Go through all provided training documents and\n",
        "        create the list of vocabulary for known documents\n",
        "        by looking at all ngrams and tracking how often\n",
        "        those ngrams appear. If max_features is defined,\n",
        "        only keep the most common tokens. Afterward,\n",
        "        generate a token_to_id mapper and an id_to_token\n",
        "        mapper.\n",
        "        \"\"\"\n",
        "        for document in X:\n",
        "            tokens = self.tokenizer(document)\n",
        "            for token in self.token_generator(tokens):\n",
        "                if token in self.vocabulary.keys():\n",
        "                    self.vocabulary[token] += 1\n",
        "                else:\n",
        "                    self.vocabulary[token] = 1\n",
        "        \n",
        "        if self.max_features != None:\n",
        "            temp_vocab = {}\n",
        "            for key, value in Counter(self.vocabulary).most_common(self.max_features):\n",
        "                temp_vocab[key] = value\n",
        "            self.vocabulary = temp_vocab\n",
        "            del temp_vocab\n",
        "            \n",
        "        self.token_to_id = {ky: ix for ix, ky in enumerate(sorted(self.vocabulary.keys()))}\n",
        "        self.id_to_token = {ix: ky for ix, ky in enumerate(sorted(self.vocabulary.keys()))}\n",
        "        \n",
        "\n",
        "    def transform(self, X):\n",
        "        \"\"\"\n",
        "        Go through all provided documents and use the known\n",
        "        vocabulary to track how often each ngram appears in\n",
        "        the document. At the end, stack all of the generated\n",
        "        document vectors together. Skip the initial vector that\n",
        "        all 0's, which is just there to act as a template.\n",
        "        \"\"\"\n",
        "        vectorized_docs = np.zeros(len(self.vocabulary.keys()))\n",
        "        for document in X:\n",
        "            tokens = self.tokenizer(document)\n",
        "            vectorized_doc = np.zeros(len(self.vocabulary.keys()))\n",
        "            for token in self.token_generator(tokens):\n",
        "                if token in self.vocabulary:\n",
        "                    word_id = self.token_to_id[token]\n",
        "                    vectorized_doc[word_id] += 1\n",
        "            vectorized_docs = np.vstack((vectorized_docs,vectorized_doc))\n",
        "        return vectorized_docs[1:]\n",
        "    \n",
        "    def fit_transform(self, X):\n",
        "        \"\"\"\n",
        "        Fit on X and then transform X and return it as vectors.\n",
        "        \"\"\"\n",
        "        self.fit(X)\n",
        "        return self.transform(X)"
      ],
      "metadata": {
        "id": "fYYqGRKUh0s8"
      },
      "execution_count": 12,
      "outputs": []
    },
    {
      "cell_type": "code",
      "source": [
        "cv = count_vectorizer(ngrams=(1,3), max_features=None)\n",
        "data = ['bob went to the store','dana, did not go to the store']\n",
        "cv.fit(data)"
      ],
      "metadata": {
        "id": "UZ6D8XVWi_KF"
      },
      "execution_count": 13,
      "outputs": []
    },
    {
      "cell_type": "code",
      "source": [
        "cv.vocabulary"
      ],
      "metadata": {
        "colab": {
          "base_uri": "https://localhost:8080/"
        },
        "id": "gKAZkzshjWy-",
        "outputId": "a7d9d417-e34a-4ea3-e79e-c69c54efea69"
      },
      "execution_count": 15,
      "outputs": [
        {
          "output_type": "execute_result",
          "data": {
            "text/plain": [
              "{'bob': 1,\n",
              " 'went': 1,\n",
              " 'to': 2,\n",
              " 'the': 2,\n",
              " 'store': 2,\n",
              " 'bob went': 1,\n",
              " 'went to': 1,\n",
              " 'to the': 2,\n",
              " 'the store': 2,\n",
              " 'bob went to': 1,\n",
              " 'went to the': 1,\n",
              " 'to the store': 2,\n",
              " 'dana': 1,\n",
              " 'did': 1,\n",
              " 'not': 1,\n",
              " 'go': 1,\n",
              " 'dana did': 1,\n",
              " 'did not': 1,\n",
              " 'not go': 1,\n",
              " 'go to': 1,\n",
              " 'dana did not': 1,\n",
              " 'did not go': 1,\n",
              " 'not go to': 1,\n",
              " 'go to the': 1}"
            ]
          },
          "metadata": {},
          "execution_count": 15
        }
      ]
    },
    {
      "cell_type": "code",
      "source": [
        "cv.transform(data)"
      ],
      "metadata": {
        "colab": {
          "base_uri": "https://localhost:8080/"
        },
        "id": "OV0zmRsfjd-t",
        "outputId": "7a4ae526-dd21-433e-d7ce-570590ef3144"
      },
      "execution_count": 16,
      "outputs": [
        {
          "output_type": "execute_result",
          "data": {
            "text/plain": [
              "array([[1., 1., 1., 0., 0., 0., 0., 0., 0., 0., 0., 0., 0., 0., 0., 1.,\n",
              "        1., 1., 1., 1., 1., 1., 1., 1.],\n",
              "       [0., 0., 0., 1., 1., 1., 1., 1., 1., 1., 1., 1., 1., 1., 1., 1.,\n",
              "        1., 1., 1., 1., 1., 0., 0., 0.]])"
            ]
          },
          "metadata": {},
          "execution_count": 16
        }
      ]
    },
    {
      "cell_type": "code",
      "source": [
        "from sklearn.feature_extraction.text import CountVectorizer\n",
        "\n",
        "cv_sk = CountVectorizer(max_features=None, ngram_range=(1,3))\n",
        "cv_sk.fit(data)\n",
        "cv_sk.transform(data).todense()"
      ],
      "metadata": {
        "colab": {
          "base_uri": "https://localhost:8080/"
        },
        "id": "CbpUmMaJjj8D",
        "outputId": "e2386c83-2014-433d-bce2-764fd431e9fb"
      },
      "execution_count": 17,
      "outputs": [
        {
          "output_type": "execute_result",
          "data": {
            "text/plain": [
              "matrix([[1, 1, 1, 0, 0, 0, 0, 0, 0, 0, 0, 0, 0, 0, 0, 1, 1, 1, 1, 1, 1,\n",
              "         1, 1, 1],\n",
              "        [0, 0, 0, 1, 1, 1, 1, 1, 1, 1, 1, 1, 1, 1, 1, 1, 1, 1, 1, 1, 1,\n",
              "         0, 0, 0]])"
            ]
          },
          "metadata": {},
          "execution_count": 17
        }
      ]
    },
    {
      "cell_type": "code",
      "source": [
        "np.allclose(cv_sk.transform(data).todense(), cv.transform(data))"
      ],
      "metadata": {
        "colab": {
          "base_uri": "https://localhost:8080/"
        },
        "id": "D3XGGoNEkNzF",
        "outputId": "cc672fe5-fc7f-42e3-96bc-b765d828c9c4"
      },
      "execution_count": 18,
      "outputs": [
        {
          "output_type": "execute_result",
          "data": {
            "text/plain": [
              "True"
            ]
          },
          "metadata": {},
          "execution_count": 18
        }
      ]
    },
    {
      "cell_type": "markdown",
      "source": [
        "# Now let's turn on stopwords"
      ],
      "metadata": {
        "id": "cHikQXDPki8j"
      }
    },
    {
      "cell_type": "code",
      "source": [
        "cv = count_vectorizer(ngrams=(1,3), max_features=None, remove_stopwords=True)\n",
        "data = ['bob went to the store','dana, did not go to the store']\n",
        "cv.fit(data)"
      ],
      "metadata": {
        "id": "_cfocKrwkgld"
      },
      "execution_count": 20,
      "outputs": []
    },
    {
      "cell_type": "code",
      "source": [
        "cv.vocabulary"
      ],
      "metadata": {
        "colab": {
          "base_uri": "https://localhost:8080/"
        },
        "id": "IzNwnT9ClhDL",
        "outputId": "705951d6-0f40-48ab-e8f7-e43f34886a82"
      },
      "execution_count": 21,
      "outputs": [
        {
          "output_type": "execute_result",
          "data": {
            "text/plain": [
              "{'bob': 1,\n",
              " 'went': 1,\n",
              " 'store': 2,\n",
              " 'bob went': 1,\n",
              " 'went store': 1,\n",
              " 'bob went store': 1,\n",
              " 'dana': 1,\n",
              " 'go': 1,\n",
              " 'dana go': 1,\n",
              " 'go store': 1,\n",
              " 'dana go store': 1}"
            ]
          },
          "metadata": {},
          "execution_count": 21
        }
      ]
    },
    {
      "cell_type": "code",
      "source": [
        "cv = count_vectorizer(ngrams=(1,3), max_features=3, remove_stopwords=True)\n",
        "data = ['bob went to the store','dana, did not go the store']\n",
        "cv.fit(data)"
      ],
      "metadata": {
        "id": "9JP-Uvaelko6"
      },
      "execution_count": 22,
      "outputs": []
    },
    {
      "cell_type": "code",
      "source": [
        "cv.vocabulary"
      ],
      "metadata": {
        "colab": {
          "base_uri": "https://localhost:8080/"
        },
        "id": "LxcqvyaEmHRS",
        "outputId": "1ae5245a-0abd-4913-bee4-bb506e947c60"
      },
      "execution_count": 23,
      "outputs": [
        {
          "output_type": "execute_result",
          "data": {
            "text/plain": [
              "{'store': 2, 'bob': 1, 'went': 1}"
            ]
          },
          "metadata": {},
          "execution_count": 23
        }
      ]
    },
    {
      "cell_type": "code",
      "source": [],
      "metadata": {
        "id": "j0WrlAvjmK2P"
      },
      "execution_count": null,
      "outputs": []
    }
  ]
}